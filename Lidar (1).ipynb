{
 "cells": [
  {
   "cell_type": "raw",
   "id": "49bbf816",
   "metadata": {
    "scrolled": true
   },
   "source": [
    "import whiteboxgui\n",
    "whiteboxgui.show(tree=True)"
   ]
  },
  {
   "cell_type": "raw",
   "id": "af47aec4",
   "metadata": {},
   "source": [
    "import whitebox\n",
    "wbt = whitebox.WhiteboxTools()\n",
    "i=r'D:\\RMSI Work\\Lidar Data\\NEONDSSampleLiDARPointCloud.las'\n",
    "output= r'D:\\Python\\lidar\\tree.las'\n",
    "wbt.filter_lidar_classes(i, output, exclude_cls='0-4, 6-18')"
   ]
  },
  {
   "cell_type": "raw",
   "id": "b0ae3de9",
   "metadata": {},
   "source": [
    "import whitebox\n",
    "wbt = whitebox.WhiteboxTools()\n",
    "cl = r'D:\\Python\\lidar\\tree.las'\n",
    "wbt.filter_lidar_classes(i=r'D:\\RMSI Work\\Lidar Data\\NEONDSSampleLiDARPointCloud.las', output=(cl), exclude_cls='0-4, 6-18')"
   ]
  },
  {
   "cell_type": "raw",
   "id": "a9f48034",
   "metadata": {},
   "source": [
    "dsm = r'D:\\Python\\lidar\\dsm.tiff'\n",
    "wbt.lidar_digital_surface_model(\n",
    "    i=r'D:\\RMSI Work\\Lidar Data\\NEONDSSampleLiDARPointCloud.las', \n",
    "    output= dsm, \n",
    "    resolution=0.5, \n",
    "    radius=0.25,\n",
    "    minz=None, \n",
    "    maxz=None, \n",
    "    max_triangle_edge_length=None, \n",
    ")\n"
   ]
  },
  {
   "cell_type": "raw",
   "id": "47bf559e",
   "metadata": {},
   "source": [
    "import whitebox\n",
    "wbt = whitebox.WhiteboxTools()\n",
    "ground = r'D:\\Python\\lidar\\ground.las'\n",
    "wbt.filter_lidar_classes(i=r'D:\\RMSI Work\\Lidar Data\\NEONDSSampleLiDARPointCloud.las', output=(ground), exclude_cls='0-1, 3-18')\n"
   ]
  },
  {
   "cell_type": "raw",
   "id": "f55a4457",
   "metadata": {},
   "source": [
    "dem = r'D:\\Python\\lidar\\dem.tiff'\n",
    "wbt.lidar_digital_surface_model(\n",
    "    i=ground, \n",
    "    output= dem, \n",
    "    resolution=0.5, \n",
    "    radius=0.25, \n",
    "    minz=None, \n",
    "    maxz=None, \n",
    "    max_triangle_edge_length=None, \n",
    ")"
   ]
  },
  {
   "cell_type": "raw",
   "id": "f06e85ab",
   "metadata": {},
   "source": [
    "height = r'D:\\Python\\lidar\\h.tiff'\n",
    "wbt.subtract(\n",
    "    dsm, \n",
    "    dem, \n",
    "    output = height\n",
    ")\n"
   ]
  },
  {
   "cell_type": "raw",
   "id": "d00db828",
   "metadata": {},
   "source": [
    "import rasterio\n",
    "import numpy as np\n",
    "\n",
    "ds = rasterio.open(\"D:/Python/lidar/h.tiff\")\n",
    "data =ds.read()\n",
    "lista = data.copy()\n",
    "\n",
    "lista[np.where(lista >=1)] = 1\n",
    "lista[np.where((lista <1) & (lista >=-32768))] = 0\n",
    "np.asarray(lista, dtype=int)\n",
    "with rasterio.open(\"D:/Python/lidar/tree_canopy.tiff\", 'w',\n",
    "           driver=ds.driver,\n",
    "           height=ds.height,\n",
    "           width=ds.width,\n",
    "           crs=ds.crs,\n",
    "           count=ds.count,\n",
    "           transform=ds.transform,\n",
    "           dtype=data.dtype\n",
    "\n",
    " )as dst:\n",
    "   dst.write(lista)"
   ]
  },
  {
   "cell_type": "raw",
   "id": "d5f62128",
   "metadata": {},
   "source": [
    "t = r'D:\\Python\\lidar\\tree_canopy.tiff'\n",
    "tree_canopy= r'D:\\Python\\lidar\\tree_canopy.shp'\n",
    "\n",
    "wbt.raster_to_vector_polygons(\n",
    "    t, \n",
    "    output=tree_canopy\n",
    ")"
   ]
  },
  {
   "cell_type": "raw",
   "id": "1f5bc454",
   "metadata": {},
   "source": [
    "#import geopandas as gpd\n",
    "import pandas as pd\n",
    "import rasterio\n",
    "from rasterio.plot import show\n",
    "from rasterio.plot import show_hist\n",
    "import rasterstats\n",
    "import matplotlib.pyplot as plt\n",
    "import os\n",
    "import numpy\n",
    "import shapely\n",
    "from shapely.geos import WKTReadingError"
   ]
  },
  {
   "cell_type": "raw",
   "id": "15798c9d",
   "metadata": {},
   "source": [
    "import geopandas as gpd\n",
    "canopy = gpd.read_file(r'D:\\Python\\lidar\\tree_canopy.shp')"
   ]
  },
  {
   "cell_type": "raw",
   "id": "1570b9e7",
   "metadata": {},
   "source": [
    "height = rasterio.open(r'D:\\Python\\lidar\\h.tiff')"
   ]
  },
  {
   "cell_type": "raw",
   "id": "c3eaca11",
   "metadata": {},
   "source": [
    "fig, (ax1,ax2) = plt.subplots(1,2, figsize = (10,4))\n",
    "show(height, ax = ax1, title = 'Height')\n",
    "canopy.plot(ax = ax1, facecolor = 'None', edgecolor = 'red')\n",
    "show_hist(height, title = 'Histogram', ax = ax2)\n",
    "plt.show"
   ]
  },
  {
   "cell_type": "raw",
   "id": "d216dcb1",
   "metadata": {},
   "source": [
    "hr = height.read(1)\n",
    "affine = height.transform"
   ]
  },
  {
   "cell_type": "raw",
   "id": "dda0e348",
   "metadata": {},
   "source": [
    "maxh = rasterstats.zonal_stats(canopy, hr, affine = affine, stats = ['max'], geojson_out = True)\n",
    "Max_height = []"
   ]
  },
  {
   "cell_type": "raw",
   "id": "77886a17",
   "metadata": {},
   "source": [
    "i = 0"
   ]
  },
  {
   "cell_type": "raw",
   "id": "58d329ba",
   "metadata": {},
   "source": [
    "while i < len(maxh):\n",
    "    Max_height.append(maxh[i])\n",
    "    i = i + 1"
   ]
  },
  {
   "cell_type": "raw",
   "id": "04b0dd06",
   "metadata": {},
   "source": [
    "maxh_canopy = pd.DataFrame(Max_height)"
   ]
  },
  {
   "cell_type": "raw",
   "id": "531a94e5",
   "metadata": {},
   "source": [
    "print(maxh_canopy)\n",
    "maxh_canopy.to_csv(r'D:\\Python\\lidar\\tree_canopy_h.csv')"
   ]
  },
  {
   "cell_type": "raw",
   "id": "b5dcb602",
   "metadata": {},
   "source": [
    "import pandas as pd\n",
    "import geopandas as gpd\n",
    "data = gpd.read_file(r'D:\\Python\\lidar\\tree_canopy.shp')\n",
    "data['geometry'].representative_point()\n",
    "data.to_file(r'D:\\Python\\lidar\\tree_cany.shp')\n",
    "data"
   ]
  },
  {
   "cell_type": "raw",
   "id": "108a3395",
   "metadata": {},
   "source": [
    "h = pd.merge(data, maxh_canopy, right_index=True, left_index = True)\n",
    "h"
   ]
  },
  {
   "cell_type": "raw",
   "id": "e905d789",
   "metadata": {},
   "source": [
    "type(h)"
   ]
  },
  {
   "cell_type": "raw",
   "id": "b64d61dc",
   "metadata": {},
   "source": [
    "h.to_csv(r'D:\\Python\\lidar\\tree_cany.csv')"
   ]
  },
  {
   "cell_type": "code",
   "execution_count": null,
   "id": "99c87371",
   "metadata": {},
   "outputs": [],
   "source": []
  }
 ],
 "metadata": {
  "kernelspec": {
   "display_name": "Python 3 (ipykernel)",
   "language": "python",
   "name": "python3"
  },
  "language_info": {
   "codemirror_mode": {
    "name": "ipython",
    "version": 3
   },
   "file_extension": ".py",
   "mimetype": "text/x-python",
   "name": "python",
   "nbconvert_exporter": "python",
   "pygments_lexer": "ipython3",
   "version": "3.7.12"
  }
 },
 "nbformat": 4,
 "nbformat_minor": 5
}
